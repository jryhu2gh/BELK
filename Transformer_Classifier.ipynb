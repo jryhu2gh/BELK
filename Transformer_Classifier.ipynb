{
 "cells": [
  {
   "cell_type": "code",
   "execution_count": 26,
   "id": "6e2f0c3c-996b-4eb9-9766-dba657e00df0",
   "metadata": {},
   "outputs": [],
   "source": [
    "import os\n",
    "import random\n",
    "import numpy as np\n",
    "import pandas as pd\n",
    "from tqdm import tqdm\n",
    "import torch\n",
    "import torch.nn as nn\n",
    "import gc\n",
    "# from sklearn.model_selection import StratifiedKFold\n",
    "# from sklearn.metrics import average_precision_score as APS\n",
    "\n",
    "file_path = './leash-BELKA/'"
   ]
  },
  {
   "cell_type": "code",
   "execution_count": 44,
   "id": "e7b029e4-ce0c-47ea-9a6f-d6886acbb4d6",
   "metadata": {},
   "outputs": [],
   "source": [
    "# # Read the entire data frame\n",
    "# df = pd.read_parquet(file_path+'train_enc.parquet', engine='pyarrow', columns=None, filters=None)"
   ]
  },
  {
   "cell_type": "code",
   "execution_count": 45,
   "id": "ee887b89-fe67-4052-9bce-7dc1b9a477f0",
   "metadata": {},
   "outputs": [],
   "source": [
    "## Separate data according to positive and negative\n",
    "# del df_A\n",
    "# df_A = df[(df['bind1']==0) & (df['bind2']==0) & (df['bind3']==0)]\n",
    "# df_A.to_parquet('Part_A.parquet')\n",
    "# del df_A\n",
    "# df_B = df[(df['bind1']==1) | (df['bind2']==1) | (df['bind3']==1)]\n",
    "# df_B.to_parquet('Part_B.parquet')\n",
    "# del df_B"
   ]
  },
  {
   "cell_type": "code",
   "execution_count": 57,
   "id": "c27e2414-914c-4eff-893f-876f91872eba",
   "metadata": {},
   "outputs": [
    {
     "data": {
      "text/plain": [
       "96905831"
      ]
     },
     "execution_count": 57,
     "metadata": {},
     "output_type": "execute_result"
    }
   ],
   "source": [
    "df_Negative = pd.read_parquet(file_path+'Part_A.parquet', engine='pyarrow', columns=None, filters=None)\n",
    "len(df_Negative)"
   ]
  },
  {
   "cell_type": "code",
   "execution_count": 58,
   "id": "0f884c76-0c8f-474c-bf05-e19e5aa100df",
   "metadata": {},
   "outputs": [
    {
     "data": {
      "text/plain": [
       "1509779"
      ]
     },
     "execution_count": 58,
     "metadata": {},
     "output_type": "execute_result"
    }
   ],
   "source": [
    "df_Positive = pd.read_parquet(file_path+'Part_B.parquet', engine='pyarrow', columns=None, filters=None)\n",
    "len(df_Positive)"
   ]
  },
  {
   "cell_type": "code",
   "execution_count": 59,
   "id": "e1988677-c5a6-450e-b7e2-46adf3a6aa58",
   "metadata": {},
   "outputs": [
    {
     "data": {
      "text/plain": [
       "64.18544104799444"
      ]
     },
     "execution_count": 59,
     "metadata": {},
     "output_type": "execute_result"
    }
   ],
   "source": [
    "len(df_Negative)/len(df_Positive)"
   ]
  },
  {
   "cell_type": "markdown",
   "id": "039b3189-d073-4eaf-9823-c093682de962",
   "metadata": {},
   "source": [
    "## Create Dataset"
   ]
  },
  {
   "cell_type": "code",
   "execution_count": 60,
   "id": "97d3fe62-5250-41a0-beb5-62c8f598f613",
   "metadata": {},
   "outputs": [],
   "source": [
    "df_Positive_values = df_Positive.values\n",
    "df_Positive_torch = torch.tensor(df_Positive_values)\n",
    "X_Positive, Y_Positive = df_Positive_torch[:,:142], df_Positive_torch[:, 142:]\n",
    "Y_Positive = Y_Positive.bool().any(dim=1,keepdim = True).to(torch.int64)\n",
    "Y_Positive = nn.functional.one_hot(Y_Positive, num_classes=2)\n",
    "del df_Positive_torch, df_Positive_values\n",
    "\n",
    "num_samples = len(df_Positive)\n",
    "df_Negative_downsample = df_Negative.sample(n=num_samples, random_state=1)\n",
    "del df_Negative\n",
    "df_Negative_values = df_Negative_downsample.values\n",
    "df_Negative_torch = torch.tensor(df_Negative_values)\n",
    "X_Negative, Y_Negative = df_Negative_torch[:,:142], df_Negative_torch[:, 142:]\n",
    "Y_Negative = Y_Negative.bool().any(dim=1,keepdim = True).to(torch.int64)\n",
    "Y_Negative = nn.functional.one_hot(Y_Negative, num_classes=2)\n",
    "del df_Negative_torch, df_Negative_values\n",
    "del df_Positive, df_Negative_downsample"
   ]
  },
  {
   "cell_type": "code",
   "execution_count": 61,
   "id": "6bac8ff4-7cef-4c12-90b2-69d22dee3cab",
   "metadata": {},
   "outputs": [
    {
     "data": {
      "text/plain": [
       "494"
      ]
     },
     "execution_count": 61,
     "metadata": {},
     "output_type": "execute_result"
    }
   ],
   "source": [
    "gc.collect()"
   ]
  },
  {
   "cell_type": "code",
   "execution_count": 64,
   "id": "79d63e79-dfa5-4267-b26d-38217aec2edb",
   "metadata": {},
   "outputs": [
    {
     "data": {
      "text/plain": [
       "torch.Size([3019558, 2])"
      ]
     },
     "execution_count": 64,
     "metadata": {},
     "output_type": "execute_result"
    }
   ],
   "source": [
    "Y_all.shape"
   ]
  },
  {
   "cell_type": "code",
   "execution_count": 63,
   "id": "daaaeac0-be2a-4367-963c-ba28d7309e54",
   "metadata": {},
   "outputs": [
    {
     "data": {
      "text/plain": [
       "0"
      ]
     },
     "execution_count": 63,
     "metadata": {},
     "output_type": "execute_result"
    }
   ],
   "source": [
    "X_all = torch.cat((X_Positive, X_Negative),dim = 0)\n",
    "Y_all = torch.cat((Y_Positive, Y_Negative),dim = 0).view(-1,2)\n",
    "del X_Positive, X_Negative, Y_Positive, Y_Negative\n",
    "gc.collect()"
   ]
  },
  {
   "cell_type": "code",
   "execution_count": 75,
   "id": "e1bf9975-9113-4ff9-8a2d-ce23fc413157",
   "metadata": {},
   "outputs": [
    {
     "name": "stdout",
     "output_type": "stream",
     "text": [
      "torch.int64 torch.int64\n",
      "2717602 301956\n"
     ]
    },
    {
     "data": {
      "text/plain": [
       "1702"
      ]
     },
     "execution_count": 75,
     "metadata": {},
     "output_type": "execute_result"
    }
   ],
   "source": [
    "from torch.utils.data import Dataset, DataLoader\n",
    "\n",
    "class CustomDataset(Dataset):\n",
    "    def __init__(self, data, labels):\n",
    "        self.data = data\n",
    "        self.labels = labels\n",
    "\n",
    "    def __len__(self):\n",
    "        return len(self.data)\n",
    "\n",
    "    def __getitem__(self, idx):\n",
    "        return self.data[idx], self.labels[idx]\n",
    "\n",
    "batch_size = 1024\n",
    "print(X_all.dtype, Y_all.dtype)\n",
    "dataset = CustomDataset(X_all, Y_all.to(torch.float32))\n",
    "# dataloader = DataLoader(dataset, batch_size=batch_size, shuffle=True)\n",
    "\n",
    "train_size = int(0.9*len(dataset))\n",
    "val_size =  len(dataset)-train_size\n",
    "train_dataset, val_dataset = torch.utils.data.random_split(dataset, [train_size, val_size])\n",
    "\n",
    "train_loader = DataLoader(train_dataset, batch_size=batch_size, shuffle=True)\n",
    "val_loader = DataLoader(val_dataset, batch_size=batch_size, shuffle=False)\n",
    "print(len(train_loader.dataset), len(val_loader.dataset))\n",
    "gc.collect()"
   ]
  },
  {
   "cell_type": "code",
   "execution_count": 76,
   "id": "8183a826-7e65-4d38-8531-f3aa3c0525ed",
   "metadata": {},
   "outputs": [],
   "source": [
    "# from torch.utils.data import Dataset, DataLoader\n",
    "\n",
    "# class CustomDataset(Dataset):\n",
    "#     def __init__(self, data, labels):\n",
    "#         self.data = data\n",
    "#         self.labels = labels\n",
    "\n",
    "#     def __len__(self):\n",
    "#         return len(self.data)\n",
    "\n",
    "#     def __getitem__(self, idx):\n",
    "#         return self.data[idx], self.labels[idx]\n",
    "\n",
    "# # Function to filter, sample, and combine data\n",
    "# def RandomSample(data, labels, ratio_of_one):\n",
    "#     # Separate data into two groups based on labels\n",
    "#     data_class_0 = data[labels.squeeze() == 0]\n",
    "#     data_class_1 = data[labels.squeeze() == 1]\n",
    "    \n",
    "#     # Determine the number of samples for each group\n",
    "#     num_class_0 = data_class_0.size(0)\n",
    "#     num_class_1 = data_class_1.size(0)\n",
    "    \n",
    "#     # Calculate the number of samples needed for class 1 based on the ratio\n",
    "#     desired_num_class_0 = int(num_class_1 * (1-ratio_of_one) / ratio_of_one)\n",
    "#     print(num_class_1, desired_num_class_0)\n",
    "    \n",
    "#     # If desired number of class 1 samples is more than available, use all\n",
    "#     desired_num_class_0 = min(desired_num_class_0, num_class_0)\n",
    "    \n",
    "#     # Randomly sample from each group\n",
    "#     sampled_class_0_indices = torch.randperm(num_class_0)\n",
    "#     # sampled_class_1_indices = torch.randperm(num_class_1)\n",
    "    \n",
    "#     sampled_class_0 = data_class_0[sampled_class_0_indices[:desired_num_class_0]]\n",
    "#     # sampled_class_1 = data_class_1[sampled_class_1_indices[:desired_num_class_1]]\n",
    "    \n",
    "#     # Combine the samples\n",
    "#     combined_data = torch.cat([sampled_class_0, data_class_1], dim=0)\n",
    "#     combined_labels = torch.cat([torch.zeros(desired_num_class_0), torch.ones(num_class_1)], dim=0)\n",
    "    \n",
    "#     # Shuffle the combined data\n",
    "#     perm = torch.randperm(combined_data.size(0))\n",
    "#     combined_data = combined_data[perm]\n",
    "#     combined_labels = combined_labels[perm]\n",
    "    \n",
    "#     return combined_data, combined_labels"
   ]
  },
  {
   "cell_type": "markdown",
   "id": "816d0426-1031-4786-8fd2-1102313dbb46",
   "metadata": {},
   "source": [
    "## Create Model"
   ]
  },
  {
   "cell_type": "code",
   "execution_count": 77,
   "id": "6ff285cc-75de-4805-b9c4-d40a588e6da6",
   "metadata": {},
   "outputs": [],
   "source": [
    "import torch\n",
    "import torch.nn as nn\n",
    "import torch.optim as optim\n",
    "import torch.utils.data as data\n",
    "import math\n",
    "import copy"
   ]
  },
  {
   "cell_type": "code",
   "execution_count": 78,
   "id": "6ee2c9f1-1d35-4d3a-bbab-f93faf32d514",
   "metadata": {},
   "outputs": [],
   "source": [
    "class MultiHeadAttention(nn.Module):\n",
    "    def __init__(self, d_model, num_heads):\n",
    "        super(MultiHeadAttention, self).__init__()\n",
    "        # Ensure that the model dimension (d_model) is divisible by the number of heads\n",
    "        assert d_model % num_heads == 0, \"d_model must be divisible by num_heads\"\n",
    "        \n",
    "        # Initialize dimensions\n",
    "        self.d_model = d_model # Model's dimension\n",
    "        self.num_heads = num_heads # Number of attention heads\n",
    "        self.d_k = d_model // num_heads # Dimension of each head's key, query, and value\n",
    "        \n",
    "        # Linear layers for transforming inputs\n",
    "        self.W_q = nn.Linear(d_model, d_model) # Query transformation\n",
    "        self.W_k = nn.Linear(d_model, d_model) # Key transformation\n",
    "        self.W_v = nn.Linear(d_model, d_model) # Value transformation\n",
    "        self.W_o = nn.Linear(d_model, d_model) # Output transformation\n",
    "        \n",
    "    def scaled_dot_product_attention(self, Q, K, V, mask=None):\n",
    "        # Calculate attention scores\n",
    "        attn_scores = torch.matmul(Q, K.transpose(-2, -1)) / math.sqrt(self.d_k)\n",
    "        \n",
    "        # Apply mask if provided (useful for preventing attention to certain parts like padding)\n",
    "        if mask is not None:\n",
    "            attn_scores = attn_scores.masked_fill(mask == 0, -1e9)\n",
    "        \n",
    "        # Softmax is applied to obtain attention probabilities\n",
    "        attn_probs = torch.softmax(attn_scores, dim=-1)\n",
    "        \n",
    "        # Multiply by values to obtain the final output\n",
    "        output = torch.matmul(attn_probs, V)\n",
    "        return output\n",
    "        \n",
    "    def split_heads(self, x):\n",
    "        # Reshape the input to have num_heads for multi-head attention\n",
    "        batch_size, seq_length, d_model = x.size()\n",
    "        return x.view(batch_size, seq_length, self.num_heads, self.d_k).transpose(1, 2)\n",
    "        \n",
    "    def combine_heads(self, x):\n",
    "        # Combine the multiple heads back to original shape\n",
    "        batch_size, _, seq_length, d_k = x.size()\n",
    "        return x.transpose(1, 2).contiguous().view(batch_size, seq_length, self.d_model)\n",
    "        \n",
    "    def forward(self, Q, K, V, mask=None):\n",
    "        # Apply linear transformations and split heads\n",
    "        Q = self.split_heads(self.W_q(Q))\n",
    "        K = self.split_heads(self.W_k(K))\n",
    "        V = self.split_heads(self.W_v(V))\n",
    "        \n",
    "        # Perform scaled dot-product attention\n",
    "        attn_output = self.scaled_dot_product_attention(Q, K, V, mask)\n",
    "        \n",
    "        # Combine heads and apply output transformation\n",
    "        output = self.W_o(self.combine_heads(attn_output))\n",
    "        return output\n",
    "\n",
    "class PositionWiseFeedForward(nn.Module):\n",
    "    def __init__(self, d_model, d_ff):\n",
    "        super(PositionWiseFeedForward, self).__init__()\n",
    "        self.fc1 = nn.Linear(d_model, d_ff)\n",
    "        self.fc2 = nn.Linear(d_ff, d_model)\n",
    "        self.relu = nn.ReLU()\n",
    "\n",
    "    def forward(self, x):\n",
    "        return self.fc2(self.relu(self.fc1(x)))\n",
    "\n",
    "class PositionalEncoding(nn.Module):\n",
    "    def __init__(self, d_model, max_seq_length):\n",
    "        super(PositionalEncoding, self).__init__()\n",
    "        \n",
    "        pe = torch.zeros(max_seq_length, d_model)\n",
    "        position = torch.arange(0, max_seq_length, dtype=torch.float).unsqueeze(1)\n",
    "        div_term = torch.exp(torch.arange(0, d_model, 2).float() * -(math.log(10000.0) / d_model))\n",
    "        \n",
    "        pe[:, 0::2] = torch.sin(position * div_term)\n",
    "        pe[:, 1::2] = torch.cos(position * div_term)\n",
    "        \n",
    "        self.register_buffer('pe', pe.unsqueeze(0))\n",
    "        \n",
    "    def forward(self, x):\n",
    "        return x + self.pe[:, :x.size(1)]"
   ]
  },
  {
   "cell_type": "code",
   "execution_count": 79,
   "id": "8e2abe7d-8e40-494c-9310-4481368ec548",
   "metadata": {},
   "outputs": [],
   "source": [
    "class EncoderLayer(nn.Module):\n",
    "    def __init__(self, d_model, num_heads, d_ff, dropout): # input size: (B, S, C)\n",
    "        super(EncoderLayer, self).__init__()\n",
    "        self.self_attn = MultiHeadAttention(d_model, num_heads)\n",
    "        self.feed_forward = PositionWiseFeedForward(d_model, d_ff)\n",
    "        self.norm1 = nn.LayerNorm(d_model)\n",
    "        self.norm2 = nn.LayerNorm(d_model)\n",
    "        self.dropout = nn.Dropout(dropout)\n",
    "        \n",
    "    def forward(self, x, mask = None):\n",
    "        attn_output = self.self_attn(x, x, x, mask)\n",
    "        x = self.norm1(x + self.dropout(attn_output))\n",
    "        ff_output = self.feed_forward(x)\n",
    "        x = self.norm2(x + self.dropout(ff_output))\n",
    "        return x # output size (B, S ,C)\n",
    "\n",
    "class TransformerClassifier(nn.Module):\n",
    "    def __init__(self, input_dim = 142, num_class = 2, d_model = 512, d_ff = 128, verbo_size = 36, num_heads = 8, dropout = 0.1):\n",
    "        super(TransformerClassifier, self).__init__()\n",
    "        self.embed = nn.Embedding(verbo_size, d_model)\n",
    "        self.encode = EncoderLayer(d_model, num_heads, d_ff, dropout)\n",
    "        self.fc = nn.Linear(input_dim, num_class)\n",
    "        self.softmax = nn.Softmax()\n",
    "\n",
    "    def forward(self, x): # input dimension (B, S)\n",
    "        x = self.embed(x)\n",
    "        x1 = self.encode(x)\n",
    "        x2, _ = torch.max(x1, dim = -1, keepdim = False)\n",
    "        output = self.fc(x2)\n",
    "        output = self.softmax(output)\n",
    "        return output"
   ]
  },
  {
   "cell_type": "markdown",
   "id": "bc6e64a1-e1c1-4dc7-8e9e-1b9f5cf04de3",
   "metadata": {},
   "source": [
    "## Training"
   ]
  },
  {
   "cell_type": "code",
   "execution_count": 80,
   "id": "3a42c945-8401-463b-968b-4c48165fc8d9",
   "metadata": {},
   "outputs": [],
   "source": [
    "from torchinfo import summary\n",
    "from tqdm.notebook import tqdm\n",
    "torch.cuda.empty_cache()\n",
    "device = 'cuda'\n",
    "model = TransformerClassifier(input_dim = 142, num_class = 2, d_model = 512, d_ff = 128, verbo_size = 37, num_heads = 8, dropout = 0.1)\n"
   ]
  },
  {
   "cell_type": "code",
   "execution_count": 81,
   "id": "4b8142d7-5b0c-4995-834d-de17213a8428",
   "metadata": {},
   "outputs": [
    {
     "data": {
      "text/plain": [
       "==========================================================================================\n",
       "Layer (type:depth-idx)                   Output Shape              Param #\n",
       "==========================================================================================\n",
       "TransformerClassifier                    [2, 2]                    --\n",
       "├─Embedding: 1-1                         [2, 142, 512]             18,944\n",
       "├─EncoderLayer: 1-2                      [2, 142, 512]             --\n",
       "│    └─MultiHeadAttention: 2-1           [2, 142, 512]             --\n",
       "│    │    └─Linear: 3-1                  [2, 142, 512]             262,656\n",
       "│    │    └─Linear: 3-2                  [2, 142, 512]             262,656\n",
       "│    │    └─Linear: 3-3                  [2, 142, 512]             262,656\n",
       "│    │    └─Linear: 3-4                  [2, 142, 512]             262,656\n",
       "│    └─Dropout: 2-2                      [2, 142, 512]             --\n",
       "│    └─LayerNorm: 2-3                    [2, 142, 512]             1,024\n",
       "│    └─PositionWiseFeedForward: 2-4      [2, 142, 512]             --\n",
       "│    │    └─Linear: 3-5                  [2, 142, 128]             65,664\n",
       "│    │    └─ReLU: 3-6                    [2, 142, 128]             --\n",
       "│    │    └─Linear: 3-7                  [2, 142, 512]             66,048\n",
       "│    └─Dropout: 2-5                      [2, 142, 512]             --\n",
       "│    └─LayerNorm: 2-6                    [2, 142, 512]             1,024\n",
       "├─Linear: 1-3                            [2, 2]                    286\n",
       "├─Softmax: 1-4                           [2, 2]                    --\n",
       "==========================================================================================\n",
       "Total params: 1,203,614\n",
       "Trainable params: 1,203,614\n",
       "Non-trainable params: 0\n",
       "Total mult-adds (Units.MEGABYTES): 2.41\n",
       "==========================================================================================\n",
       "Input size (MB): 0.00\n",
       "Forward/backward pass size (MB): 9.60\n",
       "Params size (MB): 4.81\n",
       "Estimated Total Size (MB): 14.41\n",
       "=========================================================================================="
      ]
     },
     "execution_count": 81,
     "metadata": {},
     "output_type": "execute_result"
    }
   ],
   "source": [
    "model.to(device)\n",
    "summary(model, input_size=(2, 142), dtypes=[torch.long])"
   ]
  },
  {
   "cell_type": "code",
   "execution_count": 82,
   "id": "cc98d9c1-7035-40e5-a2a2-ace06fb46dc8",
   "metadata": {},
   "outputs": [
    {
     "name": "stdout",
     "output_type": "stream",
     "text": [
      "2717602 301956\n"
     ]
    }
   ],
   "source": [
    "print(len(train_loader.dataset), len(val_loader.dataset))"
   ]
  },
  {
   "cell_type": "code",
   "execution_count": 83,
   "id": "62ba4faf-b86a-4296-9ca8-1fd4fbdf1e84",
   "metadata": {},
   "outputs": [
    {
     "name": "stdout",
     "output_type": "stream",
     "text": [
      "torch.Size([1024, 2])\n"
     ]
    }
   ],
   "source": [
    "print(targets.shape)"
   ]
  },
  {
   "cell_type": "code",
   "execution_count": 86,
   "id": "589fe945-1f1a-4fea-8e7d-ec34afb71e4e",
   "metadata": {},
   "outputs": [
    {
     "data": {
      "application/vnd.jupyter.widget-view+json": {
       "model_id": "d2fdef5c85d543ba82fa1f736dcd1185",
       "version_major": 2,
       "version_minor": 0
      },
      "text/plain": [
       "  0%|          | 0/2654 [00:00<?, ?it/s]"
      ]
     },
     "metadata": {},
     "output_type": "display_data"
    },
    {
     "name": "stdout",
     "output_type": "stream",
     "text": [
      "Epoch 1/10, Loss: 0.2872\n"
     ]
    },
    {
     "data": {
      "application/vnd.jupyter.widget-view+json": {
       "model_id": "ea704bf5906b4b73b2588dc28180ef8f",
       "version_major": 2,
       "version_minor": 0
      },
      "text/plain": [
       "  0%|          | 0/2654 [00:00<?, ?it/s]"
      ]
     },
     "metadata": {},
     "output_type": "display_data"
    },
    {
     "name": "stdout",
     "output_type": "stream",
     "text": [
      "Epoch 2/10, Loss: 0.2865\n"
     ]
    },
    {
     "data": {
      "application/vnd.jupyter.widget-view+json": {
       "model_id": "2373e3c85ec14cd3bc96d81bc7e885a9",
       "version_major": 2,
       "version_minor": 0
      },
      "text/plain": [
       "  0%|          | 0/2654 [00:00<?, ?it/s]"
      ]
     },
     "metadata": {},
     "output_type": "display_data"
    },
    {
     "name": "stdout",
     "output_type": "stream",
     "text": [
      "Epoch 3/10, Loss: 0.2859\n"
     ]
    },
    {
     "data": {
      "application/vnd.jupyter.widget-view+json": {
       "model_id": "5168ac446e904e00af850ad1201d33c2",
       "version_major": 2,
       "version_minor": 0
      },
      "text/plain": [
       "  0%|          | 0/2654 [00:00<?, ?it/s]"
      ]
     },
     "metadata": {},
     "output_type": "display_data"
    },
    {
     "name": "stdout",
     "output_type": "stream",
     "text": [
      "Epoch 4/10, Loss: 0.2853\n"
     ]
    },
    {
     "data": {
      "application/vnd.jupyter.widget-view+json": {
       "model_id": "8a4ee0325292444096941d547edd1b83",
       "version_major": 2,
       "version_minor": 0
      },
      "text/plain": [
       "  0%|          | 0/2654 [00:00<?, ?it/s]"
      ]
     },
     "metadata": {},
     "output_type": "display_data"
    },
    {
     "name": "stdout",
     "output_type": "stream",
     "text": [
      "Epoch 5/10, Loss: 0.2847\n"
     ]
    },
    {
     "data": {
      "application/vnd.jupyter.widget-view+json": {
       "model_id": "8d034c03d8784d2ba373d71f226cbfa6",
       "version_major": 2,
       "version_minor": 0
      },
      "text/plain": [
       "  0%|          | 0/2654 [00:00<?, ?it/s]"
      ]
     },
     "metadata": {},
     "output_type": "display_data"
    },
    {
     "name": "stdout",
     "output_type": "stream",
     "text": [
      "Epoch 6/10, Loss: 0.2841\n"
     ]
    },
    {
     "data": {
      "application/vnd.jupyter.widget-view+json": {
       "model_id": "2aa6d77ba72043959864de6f9b9df77b",
       "version_major": 2,
       "version_minor": 0
      },
      "text/plain": [
       "  0%|          | 0/2654 [00:00<?, ?it/s]"
      ]
     },
     "metadata": {},
     "output_type": "display_data"
    },
    {
     "name": "stdout",
     "output_type": "stream",
     "text": [
      "Epoch 7/10, Loss: 0.2836\n"
     ]
    },
    {
     "data": {
      "application/vnd.jupyter.widget-view+json": {
       "model_id": "33e795e509764bb992f86c17376947f7",
       "version_major": 2,
       "version_minor": 0
      },
      "text/plain": [
       "  0%|          | 0/2654 [00:00<?, ?it/s]"
      ]
     },
     "metadata": {},
     "output_type": "display_data"
    },
    {
     "name": "stdout",
     "output_type": "stream",
     "text": [
      "Epoch 8/10, Loss: 0.2831\n"
     ]
    },
    {
     "data": {
      "application/vnd.jupyter.widget-view+json": {
       "model_id": "cf7c2e36437446999c8adb0b8ca9b757",
       "version_major": 2,
       "version_minor": 0
      },
      "text/plain": [
       "  0%|          | 0/2654 [00:00<?, ?it/s]"
      ]
     },
     "metadata": {},
     "output_type": "display_data"
    },
    {
     "name": "stdout",
     "output_type": "stream",
     "text": [
      "Epoch 9/10, Loss: 0.2826\n"
     ]
    },
    {
     "data": {
      "application/vnd.jupyter.widget-view+json": {
       "model_id": "b362742886d847ebb5933ed96200731a",
       "version_major": 2,
       "version_minor": 0
      },
      "text/plain": [
       "  0%|          | 0/2654 [00:00<?, ?it/s]"
      ]
     },
     "metadata": {},
     "output_type": "display_data"
    },
    {
     "name": "stdout",
     "output_type": "stream",
     "text": [
      "Epoch 10/10, Loss: 0.2821\n"
     ]
    }
   ],
   "source": [
    "weights = torch.tensor([0.5, 0.5]).to(device) # set loss weight\n",
    "criterion = nn.CrossEntropyLoss( weight = weights )\n",
    "optimizer = optim.Adam(model.parameters(), lr=1e-5)\n",
    "\n",
    "num_epochs = 10\n",
    "torch.autograd.set_detect_anomaly(True)\n",
    "\n",
    "model.train()\n",
    "\n",
    "for epoch in range(num_epochs):    \n",
    "    running_loss = 0.0\n",
    "    \n",
    "    for inputs, targets in tqdm(train_loader):\n",
    "        inputs, targets = inputs.to(device), targets.to(device)\n",
    "        \n",
    "        optimizer.zero_grad()\n",
    "        outputs = model(inputs)\n",
    "        # print(outputs.shape, targets.shape)\n",
    "        loss = criterion(outputs, targets)\n",
    "        \n",
    "        loss.backward()\n",
    "        optimizer.step()\n",
    "\n",
    "        running_loss += loss.item() * inputs.size(0)\n",
    "    # print(running_loss)\n",
    "    epoch_loss = running_loss / len(train_loader.dataset)\n",
    "    print(f'Epoch {epoch+1}/{num_epochs}, Loss: {epoch_loss:.4f}')"
   ]
  },
  {
   "cell_type": "code",
   "execution_count": 87,
   "id": "e90049c7-e18a-41a7-858c-94a0ea4f4f6c",
   "metadata": {},
   "outputs": [],
   "source": [
    "torch.save(model, 'model_v2.pth')"
   ]
  },
  {
   "cell_type": "code",
   "execution_count": null,
   "id": "8bbea21c-a98e-4393-ac24-1ef6318c70c7",
   "metadata": {},
   "outputs": [],
   "source": []
  },
  {
   "cell_type": "code",
   "execution_count": null,
   "id": "67f6925b-94d2-4092-9c7e-7851524ccd8a",
   "metadata": {},
   "outputs": [],
   "source": []
  },
  {
   "cell_type": "code",
   "execution_count": null,
   "id": "2ff67a71-bd94-426e-bd77-1f66179e8b61",
   "metadata": {},
   "outputs": [],
   "source": []
  },
  {
   "cell_type": "code",
   "execution_count": 46,
   "id": "83dfc4df-3be2-461f-b043-84b6ef9bf788",
   "metadata": {},
   "outputs": [
    {
     "name": "stdout",
     "output_type": "stream",
     "text": [
      "0.5\n",
      "273611 273611\n"
     ]
    },
    {
     "data": {
      "application/vnd.jupyter.widget-view+json": {
       "model_id": "43946af5f83149d99ba817577b40c6cc",
       "version_major": 2,
       "version_minor": 0
      },
      "text/plain": [
       "  0%|          | 0/535 [00:00<?, ?it/s]"
      ]
     },
     "metadata": {},
     "output_type": "display_data"
    },
    {
     "name": "stderr",
     "output_type": "stream",
     "text": [
      "C:\\Users\\jryhu\\AppData\\Local\\Programs\\Python\\Python311\\Lib\\site-packages\\torch\\nn\\modules\\module.py:1532: UserWarning: Implicit dimension choice for softmax has been deprecated. Change the call to include dim=X as an argument.\n",
      "  return self._call_impl(*args, **kwargs)\n"
     ]
    },
    {
     "name": "stdout",
     "output_type": "stream",
     "text": [
      "Epoch 1/10, Loss: 0.3440\n"
     ]
    },
    {
     "data": {
      "application/vnd.jupyter.widget-view+json": {
       "model_id": "fdae21844eed4a61aebc36a0f87dea6d",
       "version_major": 2,
       "version_minor": 0
      },
      "text/plain": [
       "  0%|          | 0/535 [00:00<?, ?it/s]"
      ]
     },
     "metadata": {},
     "output_type": "display_data"
    },
    {
     "name": "stdout",
     "output_type": "stream",
     "text": [
      "Epoch 2/10, Loss: 0.3403\n"
     ]
    },
    {
     "data": {
      "application/vnd.jupyter.widget-view+json": {
       "model_id": "f41cfcd338994a96b44ed1b34a19deac",
       "version_major": 2,
       "version_minor": 0
      },
      "text/plain": [
       "  0%|          | 0/535 [00:00<?, ?it/s]"
      ]
     },
     "metadata": {},
     "output_type": "display_data"
    },
    {
     "name": "stdout",
     "output_type": "stream",
     "text": [
      "Epoch 3/10, Loss: 0.3356\n"
     ]
    },
    {
     "data": {
      "application/vnd.jupyter.widget-view+json": {
       "model_id": "2b5fcb2c963847688c101df635136d73",
       "version_major": 2,
       "version_minor": 0
      },
      "text/plain": [
       "  0%|          | 0/535 [00:00<?, ?it/s]"
      ]
     },
     "metadata": {},
     "output_type": "display_data"
    },
    {
     "name": "stdout",
     "output_type": "stream",
     "text": [
      "Epoch 4/10, Loss: 0.3289\n"
     ]
    },
    {
     "data": {
      "application/vnd.jupyter.widget-view+json": {
       "model_id": "42591a6fa742423ebb21aa3c9ac2db0c",
       "version_major": 2,
       "version_minor": 0
      },
      "text/plain": [
       "  0%|          | 0/535 [00:00<?, ?it/s]"
      ]
     },
     "metadata": {},
     "output_type": "display_data"
    },
    {
     "name": "stdout",
     "output_type": "stream",
     "text": [
      "Epoch 5/10, Loss: 0.3246\n"
     ]
    },
    {
     "data": {
      "application/vnd.jupyter.widget-view+json": {
       "model_id": "1d2c6b7045ab401281c1c5a00a218b08",
       "version_major": 2,
       "version_minor": 0
      },
      "text/plain": [
       "  0%|          | 0/535 [00:00<?, ?it/s]"
      ]
     },
     "metadata": {},
     "output_type": "display_data"
    },
    {
     "name": "stdout",
     "output_type": "stream",
     "text": [
      "Epoch 6/10, Loss: 0.3205\n"
     ]
    },
    {
     "data": {
      "application/vnd.jupyter.widget-view+json": {
       "model_id": "6024bada5e954d27b88fcc03f8a9a82b",
       "version_major": 2,
       "version_minor": 0
      },
      "text/plain": [
       "  0%|          | 0/535 [00:00<?, ?it/s]"
      ]
     },
     "metadata": {},
     "output_type": "display_data"
    },
    {
     "name": "stdout",
     "output_type": "stream",
     "text": [
      "Epoch 7/10, Loss: 0.3171\n"
     ]
    },
    {
     "data": {
      "application/vnd.jupyter.widget-view+json": {
       "model_id": "5c7a9c5887ce4ded8ad4b4d67eee6c3c",
       "version_major": 2,
       "version_minor": 0
      },
      "text/plain": [
       "  0%|          | 0/535 [00:00<?, ?it/s]"
      ]
     },
     "metadata": {},
     "output_type": "display_data"
    },
    {
     "name": "stdout",
     "output_type": "stream",
     "text": [
      "Epoch 8/10, Loss: 0.3151\n"
     ]
    },
    {
     "data": {
      "application/vnd.jupyter.widget-view+json": {
       "model_id": "177d4fcb796c41cfb4faaa307e5d149e",
       "version_major": 2,
       "version_minor": 0
      },
      "text/plain": [
       "  0%|          | 0/535 [00:00<?, ?it/s]"
      ]
     },
     "metadata": {},
     "output_type": "display_data"
    },
    {
     "name": "stdout",
     "output_type": "stream",
     "text": [
      "Epoch 9/10, Loss: 0.3132\n"
     ]
    },
    {
     "data": {
      "application/vnd.jupyter.widget-view+json": {
       "model_id": "2dc16e9552ca4d4da6faf41f1e3c1418",
       "version_major": 2,
       "version_minor": 0
      },
      "text/plain": [
       "  0%|          | 0/535 [00:00<?, ?it/s]"
      ]
     },
     "metadata": {},
     "output_type": "display_data"
    },
    {
     "name": "stdout",
     "output_type": "stream",
     "text": [
      "Epoch 10/10, Loss: 0.3117\n"
     ]
    }
   ],
   "source": [
    "# model.to(device)\n",
    "torch.cuda.empty_cache()\n",
    "weights = torch.tensor([0.5, 0.5]).to(device) # set loss weight\n",
    "criterion = nn.CrossEntropyLoss( weight = weights )\n",
    "optimizer = optim.Adam(model.parameters(), lr=1e-5)\n",
    "\n",
    "num_epochs = 10\n",
    "torch.autograd.set_detect_anomaly(True)\n",
    "\n",
    "model.train()\n",
    "i = 0\n",
    "num_pages = int(df.shape[0]//page_size)\n",
    "batch_size = 1024\n",
    "update_index = 999\n",
    "\n",
    "ratio_of_one = 0.5    # control how may percentage positive data occupies\n",
    "for epoch in range(num_epochs):    \n",
    "    running_loss = 0.0\n",
    "    \n",
    "    # Get a small portion of the entire data\n",
    "    if update_index>1: # Control how many epochs run for each page\n",
    "        update_index = 0\n",
    "        df_small = df.iloc[int(i*page_size):int((i+1)*page_size)]\n",
    "        # change page index\n",
    "        i+=1\n",
    "        \n",
    "        # Once it reaches the end of data, restart from teh first page\n",
    "        if i>=2:#num_pages-1:\n",
    "            i = 0\n",
    "\n",
    "        # Create dataloader. Use all positive data and randomly sample negative data to the desired ratio of one.\n",
    "        df_values = df_small.values\n",
    "        df_torch = torch.tensor(df_values,dtype = torch.float32)\n",
    "        \n",
    "        X_train = df_torch[:,:142]\n",
    "        y_train = df_torch[:,142:]\n",
    "        y_train = y_train.bool().any(dim=1,keepdim = True).to(torch.float32)\n",
    "\n",
    "        print(ratio_of_one)\n",
    "        X_train_combined, y_train_combined = RandomSample(X_train, y_train, ratio_of_one)\n",
    "        y_train_combined = nn.functional.one_hot(y_train_combined.to(torch.int64), num_classes=2)\n",
    "        y_train_combined = y_train_combined.to(torch.float32)\n",
    "        Combined_Dataset = CustomDataset(X_train_combined, y_train_combined)\n",
    "\n",
    "        Combined_DataLoader = DataLoader(Combined_Dataset, batch_size=batch_size, shuffle = True)\n",
    "    # update_index += 1\n",
    "\n",
    "    # Training starts here.\n",
    "    for inputs, targets in tqdm(Combined_DataLoader):\n",
    "        inputs, targets = inputs.to(device), targets.to(device)        \n",
    "        \n",
    "        optimizer.zero_grad()\n",
    "        outputs = model(inputs.to(torch.int32))\n",
    "        loss = criterion(outputs, targets)\n",
    "\n",
    "        loss.backward()\n",
    "        optimizer.step()\n",
    "\n",
    "        running_loss += loss.item() * inputs.size(0)\n",
    "\n",
    "    epoch_loss = running_loss / len(Combined_DataLoader.dataset)\n",
    "    print(f'Epoch {epoch+1}/{num_epochs}, Loss: {epoch_loss:.4f}')"
   ]
  },
  {
   "cell_type": "markdown",
   "id": "e6725489-8ba3-4385-abbf-4a21d285d3e8",
   "metadata": {},
   "source": [
    "#### Model performance analysis -- Use train data"
   ]
  },
  {
   "cell_type": "code",
   "execution_count": 20,
   "id": "dc85955d-7541-4e4f-b6f8-64b94d530623",
   "metadata": {},
   "outputs": [],
   "source": [
    "from sklearn.metrics import precision_recall_curve\n",
    "import matplotlib.pyplot as plt"
   ]
  },
  {
   "cell_type": "code",
   "execution_count": 18,
   "id": "bbeda0ca-8cb8-4be5-9f3e-26801623cea1",
   "metadata": {},
   "outputs": [],
   "source": [
    "positive_prob = outputs[:,1].cpu().detach().numpy()\n",
    "target_result = targets[:,1].cpu().detach().numpy()\n",
    "precision, recall, _ = precision_recall_curve(target_result, positive_prob)"
   ]
  },
  {
   "cell_type": "code",
   "execution_count": 22,
   "id": "8823a964-d80d-44ff-95ce-0be55cbeea81",
   "metadata": {},
   "outputs": [
    {
     "data": {
      "text/plain": [
       "<matplotlib.legend.Legend at 0x1c13e3aa2d0>"
      ]
     },
     "execution_count": 22,
     "metadata": {},
     "output_type": "execute_result"
    },
    {
     "data": {
      "image/png": "[encoded data removed]",
      "text/plain": [
       "<Figure size 640x480 with 1 Axes>"
      ]
     },
     "metadata": {},
     "output_type": "display_data"
    }
   ],
   "source": [
    "plt.plot(recall, precision, marker='.', label='Logistic')\n",
    "# axis labels\n",
    "plt.xlabel('Recall')\n",
    "plt.ylabel('Precision')\n",
    "# show the legend\n",
    "plt.legend()"
   ]
  },
  {
   "cell_type": "markdown",
   "id": "f2b9c1f7-ee4c-4dbf-95f8-a2c4699b4b3b",
   "metadata": {},
   "source": [
    "#### Use test data"
   ]
  },
  {
   "cell_type": "code",
   "execution_count": 71,
   "id": "0b0fb44c-0b9b-4637-9c52-b92c0f9dd043",
   "metadata": {},
   "outputs": [],
   "source": [
    "# import gc\n",
    "# gc.collect()\n",
    "del val_df, val_values, val_torch"
   ]
  },
  {
   "cell_type": "code",
   "execution_count": 57,
   "id": "87d273d5-fbd2-4700-b6f3-a24af6381c85",
   "metadata": {},
   "outputs": [
    {
     "name": "stdout",
     "output_type": "stream",
     "text": [
      "222063 222063\n"
     ]
    },
    {
     "data": {
      "application/vnd.jupyter.widget-view+json": {
       "model_id": "47bbe9b81bf54484966c673cc9fe6fed",
       "version_major": 2,
       "version_minor": 0
      },
      "text/plain": [
       "  0%|          | 0/434 [00:00<?, ?it/s]"
      ]
     },
     "metadata": {},
     "output_type": "display_data"
    }
   ],
   "source": [
    "length = df.shape[0]\n",
    "val_df = df.iloc[length-page_size:]\n",
    "val_values = val_df.values\n",
    "val_torch = torch.tensor(val_values,dtype = torch.float32)\n",
    "\n",
    "X_val = val_torch[:,:142]\n",
    "y_val = val_torch[:,142:]\n",
    "y_val = y_val.bool().any(dim=1,keepdim = True).to(torch.float32)\n",
    "\n",
    "X_val_combined, y_val_combined = RandomSample(X_val, y_val, 0.5)\n",
    "\n",
    "y_val_combined = nn.functional.one_hot(y_val_combined.to(torch.int64), num_classes=2)\n",
    "y_val_combined = y_val_combined.to(torch.float32)\n",
    "\n",
    "Combined_Dataset = CustomDataset(X_val_combined, y_val_combined)\n",
    "Combined_DataLoader = DataLoader(Combined_Dataset, batch_size=batch_size, shuffle = True)\n",
    "\n",
    "model.eval()\n",
    "\n",
    "output_all = np.asarray([-1])\n",
    "target_all = np.asarray([-1])\n",
    "for inputs, targets in tqdm(Combined_DataLoader):\n",
    "    inputs, targets = inputs.to(device), targets.to(device)\n",
    "    outputs = model(inputs.to(torch.int32))\n",
    "    output_all = np.concatenate((output_all, outputs[:,1].cpu().detach().numpy()),axis = 0)\n",
    "    target_all = np.concatenate((target_all, targets[:,1].cpu().detach().numpy()),axis = 0)\n"
   ]
  },
  {
   "cell_type": "code",
   "execution_count": 61,
   "id": "fb514861-f725-4943-8eb5-6fa12b7aa12f",
   "metadata": {},
   "outputs": [
    {
     "name": "stdout",
     "output_type": "stream",
     "text": [
      "(444126,) (444126,)\n"
     ]
    },
    {
     "data": {
      "text/plain": [
       "[<matplotlib.lines.Line2D at 0x1c1c9489d10>]"
      ]
     },
     "execution_count": 61,
     "metadata": {},
     "output_type": "execute_result"
    },
    {
     "data": {
      "image/png": "[encoded data removed]",
      "text/plain": [
       "<Figure size 640x480 with 1 Axes>"
      ]
     },
     "metadata": {},
     "output_type": "display_data"
    }
   ],
   "source": [
    "positive_prob = output_all[1:]\n",
    "target_result = target_all[1:]\n",
    "print(positive_prob.shape, target_result.shape)\n",
    "precision, recall, thresholds = precision_recall_curve(target_result, positive_prob)\n",
    "\n",
    "plt.plot(recall, precision, marker='.', label='Logistic')\n",
    "# axis labels\n",
    "plt.xlabel('Recall')\n",
    "plt.ylabel('Precision')\n",
    "# show the legend\n",
    "plt.legend()\n",
    "plt.savefig('./metric_results/run2.png')\n",
    "plt.plot(recall[1:], thresholds,marker='.', label='Threshold')"
   ]
  },
  {
   "cell_type": "markdown",
   "id": "bbed8e61-6e63-4374-b3e3-278c42df963e",
   "metadata": {},
   "source": [
    "### Model Validation"
   ]
  },
  {
   "cell_type": "code",
   "execution_count": 92,
   "id": "759a1dce-abbe-429d-ae69-f017b37b46a7",
   "metadata": {},
   "outputs": [
    {
     "name": "stdout",
     "output_type": "stream",
     "text": [
      "10501 1166\n"
     ]
    },
    {
     "data": {
      "application/vnd.jupyter.widget-view+json": {
       "model_id": "771ef08b2e52429cb37d9f4482c5c978",
       "version_major": 2,
       "version_minor": 0
      },
      "text/plain": [
       "  0%|          | 0/12 [00:00<?, ?it/s]"
      ]
     },
     "metadata": {},
     "output_type": "display_data"
    },
    {
     "name": "stdout",
     "output_type": "stream",
     "text": [
      "tensor(0.1606, device='cuda:0')\n"
     ]
    }
   ],
   "source": [
    "#####\n",
    "# Validate model performance by using the last page of data. (Never seen by the model)\n",
    "length = df.shape[0]\n",
    "val_df = df.iloc[length-page_size:]\n",
    "val_values = val_df.values\n",
    "val_torch = torch.tensor(val_values,dtype = torch.float32)\n",
    "\n",
    "X_val = val_torch[:,:142]\n",
    "y_val = val_torch[:,142:]\n",
    "y_val = y_val.bool().any(dim=1,keepdim = True).to(torch.float32)\n",
    "\n",
    "X_val_combined, y_val_combined = RandomSample(X_val, y_val, 0.5)\n",
    "\n",
    "y_val_combined = nn.functional.one_hot(y_val_combined.to(torch.int64), num_classes=2)\n",
    "y_val_combined = y_val_combined.to(torch.float32)\n",
    "\n",
    "Combined_Dataset = CustomDataset(X_val_combined, y_val_combined)\n",
    "Combined_DataLoader = DataLoader(Combined_Dataset, batch_size=batch_size, shuffle = True)\n",
    "\n",
    "model.eval()\n",
    "accuracy = 0\n",
    "count = 0\n",
    "for inputs, targets in tqdm(Combined_DataLoader):\n",
    "    inputs, targets = inputs.to(device), targets.to(device)\n",
    "    outputs = model(inputs.to(torch.int32))\n",
    "\n",
    "    predict_class = torch.argmax(outputs,dim=1)\n",
    "    true_class = torch.argmax(targets,dim=1)\n",
    "    true_count = (predict_class==true_class).to(torch.float32).sum()    \n",
    "    res = true_count / batch_size\n",
    "    # print(res)\n",
    "    accuracy+=res\n",
    "    count+=1\n",
    "    \n",
    "print(f'Accuracy: {accuracy/count}')"
   ]
  },
  {
   "cell_type": "code",
   "execution_count": null,
   "id": "b392624e-03e2-44a8-866d-03a27c8586e3",
   "metadata": {},
   "outputs": [],
   "source": [
    "from sklearn.metrics import precision_recall_curve\n"
   ]
  },
  {
   "cell_type": "markdown",
   "id": "bcede940-094c-4a6c-904b-93e4511a89eb",
   "metadata": {},
   "source": [
    "## Generate submission data"
   ]
  },
  {
   "cell_type": "code",
   "execution_count": 11,
   "id": "9c88ddc5-a0ff-4cd4-8b58-ece6f01f1f21",
   "metadata": {},
   "outputs": [
    {
     "name": "stdout",
     "output_type": "stream",
     "text": [
      "(1674896, 142)\n"
     ]
    }
   ],
   "source": [
    "df_test = pd.read_parquet(file_path+'test_enc.parquet', engine='pyarrow', columns=None, filters=None)\n",
    "print(df_test.shape)\n",
    "df_values = df_test.values\n",
    "df_test_tensor = torch.tensor(df_values, dtype=torch.float32)"
   ]
  },
  {
   "cell_type": "code",
   "execution_count": 12,
   "id": "5218f4a4-5f10-44b5-9765-19c6a6a77bc5",
   "metadata": {},
   "outputs": [],
   "source": [
    "test_csv = pd.read_csv(file_path+'test.csv')"
   ]
  },
  {
   "cell_type": "code",
   "execution_count": null,
   "id": "466cde82-ced7-48c5-98b9-e2064ff2439f",
   "metadata": {},
   "outputs": [],
   "source": [
    "device = 'cuda'\n",
    "model = torch.load('model_v1.pth')\n",
    "test_csv['binds']=0\n",
    "print(test_csv.head(3))\n",
    "model.eval()\n",
    "result = []\n",
    "batch_size = 4096\n",
    "for i in range(int(df_test_tensor.shape[0]//batch_size)):\n",
    "    inputs = df_test_tensor[int(i*batch_size):int((i+1)*batch_size)].view(batch_size,142)\n",
    "    pred = model(inputs.to(device))\n",
    "    pred = pred.detach().cpu().numpy()\n",
    "    pred_score = pred[:,1]# np.argmax(pred, axis=1)\n",
    "    test_csv.loc[int(i*batch_size):int((i+1)*batch_size)-1,'binds'] = pred_score.flatten()\n",
    "\n",
    "columns_to_save = ['id', 'binds']  # Replace 'column1' with the actual column name you want to save\n",
    "\n",
    "# Save the selected columns to a new CSV file\n",
    "test_csv[columns_to_save].to_csv('sibmission.csv', index=False)\n",
    "\n",
    "print(\"New CSV file saved successfully.\")"
   ]
  }
 ],
 "metadata": {
  "kernelspec": {
   "display_name": "Python 3 (ipykernel)",
   "language": "python",
   "name": "python3"
  },
  "language_info": {
   "codemirror_mode": {
    "name": "ipython",
    "version": 3
   },
   "file_extension": ".py",
   "mimetype": "text/x-python",
   "name": "python",
   "nbconvert_exporter": "python",
   "pygments_lexer": "ipython3",
   "version": "3.11.0"
  }
 },
 "nbformat": 4,
 "nbformat_minor": 5
}
